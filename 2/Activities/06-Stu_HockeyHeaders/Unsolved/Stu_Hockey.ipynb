{
 "cells": [
  {
   "cell_type": "code",
   "execution_count": 9,
   "source": [
    "# Dependencies\r\n",
    "from bs4 import BeautifulSoup as bs\r\n",
    "import requests\r\n",
    "import pymongo"
   ],
   "outputs": [
    {
     "output_type": "error",
     "ename": "ImportError",
     "evalue": "cannot import name 'bs' from 'bs4' (C:\\Users\\frank\\anaconda\\lib\\site-packages\\bs4\\__init__.py)",
     "traceback": [
      "\u001b[1;31m---------------------------------------------------------------------------\u001b[0m",
      "\u001b[1;31mImportError\u001b[0m                               Traceback (most recent call last)",
      "\u001b[1;32m<ipython-input-9-6b64ea7312de>\u001b[0m in \u001b[0;36m<module>\u001b[1;34m\u001b[0m\n\u001b[0;32m      1\u001b[0m \u001b[1;31m# Dependencies\u001b[0m\u001b[1;33m\u001b[0m\u001b[1;33m\u001b[0m\u001b[1;33m\u001b[0m\u001b[0m\n\u001b[1;32m----> 2\u001b[1;33m \u001b[1;32mfrom\u001b[0m \u001b[0mbs4\u001b[0m \u001b[1;32mimport\u001b[0m \u001b[0mbs\u001b[0m\u001b[1;33m\u001b[0m\u001b[1;33m\u001b[0m\u001b[0m\n\u001b[0m\u001b[0;32m      3\u001b[0m \u001b[1;32mimport\u001b[0m \u001b[0mrequests\u001b[0m\u001b[1;33m\u001b[0m\u001b[1;33m\u001b[0m\u001b[0m\n\u001b[0;32m      4\u001b[0m \u001b[1;32mimport\u001b[0m \u001b[0mpymongo\u001b[0m\u001b[1;33m\u001b[0m\u001b[1;33m\u001b[0m\u001b[0m\n",
      "\u001b[1;31mImportError\u001b[0m: cannot import name 'bs' from 'bs4' (C:\\Users\\frank\\anaconda\\lib\\site-packages\\bs4\\__init__.py)"
     ]
    }
   ],
   "metadata": {
    "collapsed": true
   }
  },
  {
   "cell_type": "code",
   "execution_count": 5,
   "source": [
    "# Initialize PyMongo to work with MongoDBs\r\n",
    "conn='mongodb://localhost:27017'\r\n",
    "client=pymongo.MongoClient(conn)"
   ],
   "outputs": [],
   "metadata": {
    "collapsed": true
   }
  },
  {
   "cell_type": "code",
   "execution_count": 7,
   "source": [
    "# Define database and collection\r\n",
    "db=client.hockey_DB\r\n",
    "collection=db.hockey"
   ],
   "outputs": [],
   "metadata": {
    "collapsed": true
   }
  },
  {
   "cell_type": "code",
   "execution_count": 8,
   "source": [
    "# URL of page to be scraped\r\n",
    "url = 'https://www.nhl.com/news'"
   ],
   "outputs": [],
   "metadata": {
    "collapsed": true
   }
  },
  {
   "cell_type": "code",
   "execution_count": null,
   "source": [
    "# Retrieve page with the requests module\r\n",
    "reponse=request.get(url)\r\n",
    "soup="
   ],
   "outputs": [],
   "metadata": {
    "collapsed": true
   }
  },
  {
   "cell_type": "code",
   "execution_count": null,
   "source": [
    "# Create BeautifulSoup object; parse with 'html.parser'"
   ],
   "outputs": [],
   "metadata": {
    "collapsed": true
   }
  },
  {
   "cell_type": "code",
   "execution_count": null,
   "source": [
    "# Retrieve the parent divs for all articles\r\n",
    "\r\n",
    "# loop over results to get article data\r\n",
    "for result in results:\r\n",
    "    # scrape the article header \r\n",
    "    header = result.find('h1', class_='article-item__headline').text\r\n",
    "    \r\n",
    "    # scrape the article subheader\r\n",
    "    subheader = result.find('h2', class_='article-item__subheader').text\r\n",
    "    \r\n",
    "    # scrape the datetime\r\n",
    "    \r\n",
    "    # get only the date from the datetime\r\n",
    "    \r\n",
    "    # print article data\r\n",
    "    print('-----------------')\r\n",
    "    print(header)\r\n",
    "    print(subheader)\r\n",
    "    print(date)\r\n",
    "\r\n",
    "    # Dictionary to be inserted into MongoDB\r\n",
    "\r\n",
    "\r\n",
    "    # Insert dictionary into MongoDB as a document\r\n"
   ],
   "outputs": [],
   "metadata": {
    "collapsed": true
   }
  },
  {
   "cell_type": "code",
   "execution_count": null,
   "source": [
    "# Display the MongoDB records created above\r\n",
    "articles = db.articles.find()\r\n",
    "for article in articles:\r\n",
    "    print(article)"
   ],
   "outputs": [],
   "metadata": {
    "collapsed": true
   }
  }
 ],
 "metadata": {
  "kernelspec": {
   "name": "python3",
   "display_name": "Python 3.8.5 64-bit ('base': conda)"
  },
  "language_info": {
   "codemirror_mode": {
    "name": "ipython",
    "version": 3
   },
   "file_extension": ".py",
   "mimetype": "text/x-python",
   "name": "python",
   "nbconvert_exporter": "python",
   "pygments_lexer": "ipython3",
   "version": "3.8.5"
  },
  "varInspector": {
   "cols": {
    "lenName": 16,
    "lenType": 16,
    "lenVar": 40
   },
   "kernels_config": {
    "python": {
     "delete_cmd_postfix": "",
     "delete_cmd_prefix": "del ",
     "library": "var_list.py",
     "varRefreshCmd": "print(var_dic_list())"
    },
    "r": {
     "delete_cmd_postfix": ") ",
     "delete_cmd_prefix": "rm(",
     "library": "var_list.r",
     "varRefreshCmd": "cat(var_dic_list()) "
    }
   },
   "types_to_exclude": [
    "module",
    "function",
    "builtin_function_or_method",
    "instance",
    "_Feature"
   ],
   "window_display": false
  },
  "interpreter": {
   "hash": "0507ca4863d74825e19143f64061a0d98fde3c42611721bd9ba5ee5b8cfcb010"
  }
 },
 "nbformat": 4,
 "nbformat_minor": 2
}