{
 "cells": [
  {
   "cell_type": "code",
   "execution_count": 1,
   "source": [
    "# Dependencies\r\n",
    "from bs4 import BeautifulSoup\r\n",
    "import requests\r\n",
    "import os"
   ],
   "outputs": [],
   "metadata": {}
  },
  {
   "cell_type": "code",
   "execution_count": 2,
   "source": [
    "filepath = os.path.join(\"Programmer-Humor.html\")\r\n",
    "with open(filepath, encoding='utf-8') as file:\r\n",
    "    html = file.read()"
   ],
   "outputs": [],
   "metadata": {}
  },
  {
   "cell_type": "code",
   "execution_count": 3,
   "source": [
    "# Create BeautifulSoup object; parse with 'html.parser'\r\n",
    "soup = BeautifulSoup(html, 'html.parser')"
   ],
   "outputs": [],
   "metadata": {}
  },
  {
   "cell_type": "code",
   "execution_count": 9,
   "source": [
    "# Find the class subscribers then find the class with number\r\n",
    "# to get the number of subscribers\r\n",
    "sub_num=soup.find_all('span',class_='subscribers')[0].find('span',class_=\"number\")\r\n",
    "# num=[]\r\n",
    "# for sub in sub_num:\r\n",
    "#     if(sub['class']=='number'):\r\n",
    "#         num.append(num.span.text)\r\n",
    "sub_num.text\r\n"
   ],
   "outputs": [
    {
     "output_type": "execute_result",
     "data": {
      "text/plain": [
       "'422,381'"
      ]
     },
     "metadata": {},
     "execution_count": 9
    }
   ],
   "metadata": {}
  },
  {
   "cell_type": "code",
   "execution_count": null,
   "source": [
    "# Examine the results, then determine element that contains sought info\r\n",
    "# results are returned as an iterable list\r\n"
   ],
   "outputs": [],
   "metadata": {}
  },
  {
   "cell_type": "code",
   "execution_count": null,
   "source": [
    "threads=soup.find_all('div',class_='top-matter')\r\n",
    "# Loop through returned results\r\n",
    "for thread in threads:\r\n",
    "\r\n",
    "    # Retrieve the thread title\r\n",
    "    title_text=thread.find('a', class_='outbound').text\r\n",
    "\r\n",
    "\r\n",
    "    # Access the thread's text content\r\n",
    "\r\n",
    "    try:\r\n",
    "        # Access the thread with CSS selectors\r\n",
    "\r\n",
    "        # The number of comments made in the thread\r\n",
    "        num=thread.find('a',class_='comments').text\r\n",
    "        # Parse string, e.g. '47 comments' for possible numeric manipulation\r\n",
    "        comments_num=int(num[0:len(num)-9])\r\n",
    "        # Access the href attribute with bracket notation\r\n",
    "\r\n",
    "        # Run if the thread has 20 or more comments\r\n",
    "        if (comments_num >= 20):\r\n",
    "            print('\\n-----------------\\n')\r\n",
    "            print(title_text)\r\n",
    "            print('Comments:', comments_num)\r\n",
    "            print(link)\r\n",
    "    except AttributeError as e:\r\n",
    "        print(e)"
   ],
   "outputs": [],
   "metadata": {}
  },
  {
   "cell_type": "code",
   "execution_count": null,
   "source": [
    "# BONUS\r\n",
    "# Try to scrape the site using the URL\r\n",
    "# url = 'https://www.reddit.com/r/ProgrammingHumor/'\r\n",
    "\r\n",
    "# Retrieve page with the requests module\r\n",
    "# html = requests.get(url)"
   ],
   "outputs": [],
   "metadata": {}
  },
  {
   "cell_type": "code",
   "execution_count": null,
   "source": [],
   "outputs": [],
   "metadata": {}
  }
 ],
 "metadata": {
  "kernelspec": {
   "name": "python3",
   "display_name": "Python 3.8.5 64-bit ('base': conda)"
  },
  "language_info": {
   "codemirror_mode": {
    "name": "ipython",
    "version": 3
   },
   "file_extension": ".py",
   "mimetype": "text/x-python",
   "name": "python",
   "nbconvert_exporter": "python",
   "pygments_lexer": "ipython3",
   "version": "3.8.5"
  },
  "varInspector": {
   "cols": {
    "lenName": 16,
    "lenType": 16,
    "lenVar": 40
   },
   "kernels_config": {
    "python": {
     "delete_cmd_postfix": "",
     "delete_cmd_prefix": "del ",
     "library": "var_list.py",
     "varRefreshCmd": "print(var_dic_list())"
    },
    "r": {
     "delete_cmd_postfix": ") ",
     "delete_cmd_prefix": "rm(",
     "library": "var_list.r",
     "varRefreshCmd": "cat(var_dic_list()) "
    }
   },
   "types_to_exclude": [
    "module",
    "function",
    "builtin_function_or_method",
    "instance",
    "_Feature"
   ],
   "window_display": false
  },
  "interpreter": {
   "hash": "0507ca4863d74825e19143f64061a0d98fde3c42611721bd9ba5ee5b8cfcb010"
  }
 },
 "nbformat": 4,
 "nbformat_minor": 2
}